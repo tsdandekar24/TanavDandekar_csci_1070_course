{
 "cells": [
  {
   "cell_type": "markdown",
   "metadata": {},
   "source": [
    "# #1"
   ]
  },
  {
   "cell_type": "code",
   "execution_count": 21,
   "metadata": {},
   "outputs": [
    {
     "data": {
      "text/plain": [
       "['a', 'b']"
      ]
     },
     "execution_count": 21,
     "metadata": {},
     "output_type": "execute_result"
    }
   ],
   "source": [
    "def filter_num(list):\n",
    "    filtered_list = [x for x in list if not isinstance(x, int) and not isinstance(x, float)]\n",
    "    return filtered_list\n",
    "filter_num([1, 2, \"a\", \"b\", 7.6])"
   ]
  },
  {
   "cell_type": "markdown",
   "metadata": {},
   "source": [
    "# #2"
   ]
  },
  {
   "cell_type": "code",
   "execution_count": 28,
   "metadata": {},
   "outputs": [
    {
     "name": "stdout",
     "output_type": "stream",
     "text": [
      "1\n",
      "2\n",
      "3 fizz\n",
      "4\n",
      "5 buzz\n",
      "6 fizz\n",
      "7\n",
      "8\n",
      "9 fizz\n",
      "10 buzz\n",
      "11\n",
      "12 fizz\n",
      "13\n",
      "14\n",
      "15 fizzbuzz\n"
     ]
    }
   ],
   "source": [
    "def fizzbuzz(num : int) -> str:\n",
    "    \"\"\"\n",
    "    Loops from 1 to the number entered and checks if it is divisible by 3, 5, or both and prints certain string\n",
    "    \"\"\"\n",
    "    for x in range(1, num + 1):\n",
    "        # divisible by 3 and 5\n",
    "        if x % 3 == 0  and x % 5 == 0:\n",
    "            print(x, \"fizzbuzz\")\n",
    "        # divisible by 3\n",
    "        elif x % 3 == 0:\n",
    "            print(x, \"fizz\")\n",
    "        # divisible by 5\n",
    "        elif x % 5 == 0:\n",
    "            print(x, \"buzz\")\n",
    "        # if not divisible by 3, 5, or both\n",
    "        else:\n",
    "            print(x)\n",
    "fizzbuzz(15)"
   ]
  },
  {
   "cell_type": "code",
   "execution_count": null,
   "metadata": {},
   "outputs": [],
   "source": []
  }
 ],
 "metadata": {
  "kernelspec": {
   "display_name": "Python 3",
   "language": "python",
   "name": "python3"
  },
  "language_info": {
   "codemirror_mode": {
    "name": "ipython",
    "version": 3
   },
   "file_extension": ".py",
   "mimetype": "text/x-python",
   "name": "python",
   "nbconvert_exporter": "python",
   "pygments_lexer": "ipython3",
   "version": "3.9.13"
  }
 },
 "nbformat": 4,
 "nbformat_minor": 2
}
