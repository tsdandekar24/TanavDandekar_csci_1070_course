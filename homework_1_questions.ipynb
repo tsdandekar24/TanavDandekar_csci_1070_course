{
 "cells": [
  {
   "cell_type": "markdown",
   "metadata": {},
   "source": [
    "### Homework 1\n",
    "\n",
    "Skim this Homework before you do your reading assignments. It will help focus your attention. \n",
    "\n",
    "Provide written answers to questions with a `#comment`. \n",
    "\n",
    "Answer the first 8 question **first** to make sure you understand the core concepts. The rest may be completed in any order.\n",
    "\n",
    "Each question is worth one point unless otherwise stated.\n",
    "\n",
    "Please note: I hope this assignment gets you to tinker with Python. I learn a lot by playing around, and it is important to me that you eventually do too!"
   ]
  },
  {
   "cell_type": "markdown",
   "metadata": {},
   "source": [
    "1. How can you get more information about a function or an object from inside a jupyter cell? "
   ]
  },
  {
   "cell_type": "code",
   "execution_count": null,
   "metadata": {},
   "outputs": [],
   "source": [
    "# Shift tab inside of the parentheses of the function"
   ]
  },
  {
   "cell_type": "markdown",
   "metadata": {},
   "source": [
    "2. How can you determine the data type of an object? Describe one data type and what it is."
   ]
  },
  {
   "cell_type": "code",
   "execution_count": null,
   "metadata": {},
   "outputs": [],
   "source": [
    "# You can look what the object is being assigned. One data type is int, and it is an integer."
   ]
  },
  {
   "cell_type": "markdown",
   "metadata": {},
   "source": [
    "3. What does assignment mean? Assign a variable named `x` and give it a value of `'yellow'`."
   ]
  },
  {
   "cell_type": "code",
   "execution_count": 2,
   "metadata": {},
   "outputs": [],
   "source": [
    "# An assignment is giving a variable a value\n",
    "x = \"yellow\""
   ]
  },
  {
   "cell_type": "markdown",
   "metadata": {},
   "source": [
    "4. You have an assortment of items you will need to keep track of. What would be a good data structure to keep them in? Provide an example in code. Make sure your code runs!"
   ]
  },
  {
   "cell_type": "code",
   "execution_count": 7,
   "metadata": {},
   "outputs": [
    {
     "name": "stdout",
     "output_type": "stream",
     "text": [
      "football\n"
     ]
    }
   ],
   "source": [
    "# You keep the items in a list\n",
    "sports = [\"basketball\", \"soccer\", \"volleyball\", \"football\", \"tennis\"]\n",
    "print(sports[3])"
   ]
  },
  {
   "cell_type": "markdown",
   "metadata": {},
   "source": [
    "5. You have an assortment of names and telephone numbers. What might be a good data structure to keep them in? Show an example with code. Make sure your code runs!"
   ]
  },
  {
   "cell_type": "code",
   "execution_count": 6,
   "metadata": {
    "scrolled": true
   },
   "outputs": [
    {
     "name": "stdout",
     "output_type": "stream",
     "text": [
      "753-421-9687\n"
     ]
    }
   ],
   "source": [
    "# You could keep them in a dictionary\n",
    "phone = {\"Thomas\": \"789-123-0456\", \"Caleb\": \"753-421-9687\"}\n",
    "print(phone[\"Caleb\"])"
   ]
  },
  {
   "cell_type": "markdown",
   "metadata": {},
   "source": [
    "6. You need to create a copy of an important list and alter the copy. Why is the following code a bad idea? "
   ]
  },
  {
   "cell_type": "code",
   "execution_count": 1,
   "metadata": {},
   "outputs": [],
   "source": [
    "list1 = [2,4,6]\n",
    "list2 = list1\n",
    "list2[0]= 8"
   ]
  },
  {
   "cell_type": "code",
   "execution_count": null,
   "metadata": {},
   "outputs": [],
   "source": [
    "# List2 will be equal to list1 and not copied. When list2 is changed, list1 will also change."
   ]
  },
  {
   "cell_type": "markdown",
   "metadata": {},
   "source": [
    "7. What is truthy and falsey? Provide a list example **and** a string example of something that is truthy and something that is falsey."
   ]
  },
  {
   "cell_type": "code",
   "execution_count": null,
   "metadata": {},
   "outputs": [],
   "source": [
    "# Truthy is when a data type is true or has values within it. Falsy is when a data type is false or is empty\n",
    "# Truthy\n",
    "names = {\"Ali\", \"Jacob\", \"Tyler\", \"Tony\"}\n",
    "t = \"bananas\"\n",
    "# Falsy\n",
    "s = \"\"\n",
    "objects = {}\n"
   ]
  },
  {
   "cell_type": "markdown",
   "metadata": {},
   "source": [
    "8. What is the difference between a dynamically typed and statically typed language? \n",
    "\n",
    "Which one is python? \n",
    "\n",
    "When is that a good thing? \n",
    "\n",
    "When is that a bad thing? "
   ]
  },
  {
   "cell_type": "code",
   "execution_count": null,
   "metadata": {},
   "outputs": [],
   "source": [
    "# Dynamically typed language is when the compiler finds data type issues as the program is compiled. Statically typed language finds errors while the program is running.\n",
    "# Python uses dynamically typed language.\n",
    "# It is a good thing because it will not mess up the code as you're typing it.\n",
    "# It is a bad thing because you can't identify your issue once you compile the code."
   ]
  },
  {
   "cell_type": "markdown",
   "metadata": {},
   "source": [
    "9. Here is a [link](https://docs.python.org/3/library/functions.html) to the python `built-in functions`. Choose 2 and give an example of how to use them. "
   ]
  },
  {
   "cell_type": "code",
   "execution_count": 22,
   "metadata": {},
   "outputs": [
    {
     "name": "stdout",
     "output_type": "stream",
     "text": [
      "9\n",
      "Womp womp\n"
     ]
    }
   ],
   "source": [
    "# len() returns the number of items or length of an object.\n",
    "message = \"Womp womp\"\n",
    "print(len(message))\n",
    "# print() prints the object or the string.\n",
    "print(message)"
   ]
  },
  {
   "cell_type": "markdown",
   "metadata": {},
   "source": [
    "10. What `operator` might help me determine if an integer is even or odd? Provide a code example, and make sure it runs!"
   ]
  },
  {
   "cell_type": "code",
   "execution_count": 1,
   "metadata": {},
   "outputs": [
    {
     "name": "stdout",
     "output_type": "stream",
     "text": [
      "Even\n"
     ]
    }
   ],
   "source": [
    "# % can help determine if an integer is odd\n",
    "o = 36\n",
    "if o % 2 == 0:\n",
    "    print(\"Even\")\n",
    "else:\n",
    "    print(\"Odd\")"
   ]
  },
  {
   "cell_type": "markdown",
   "metadata": {},
   "source": [
    "11. What is a python expression? What does an expression evalute to? "
   ]
  },
  {
   "cell_type": "code",
   "execution_count": null,
   "metadata": {},
   "outputs": [],
   "source": [
    "# It is a line or lines of code that returns a value. The expression evaluates a value of a number or string."
   ]
  },
  {
   "cell_type": "markdown",
   "metadata": {},
   "source": [
    "12. Provide an expression that evaluates which variable is greater. "
   ]
  },
  {
   "cell_type": "code",
   "execution_count": 4,
   "metadata": {},
   "outputs": [
    {
     "name": "stdout",
     "output_type": "stream",
     "text": [
      "77\n"
     ]
    }
   ],
   "source": [
    "foo = 77\n",
    "bar = 38\n",
    "if foo > bar:\n",
    "    print(foo)\n",
    "else:\n",
    "    print(bar)"
   ]
  },
  {
   "cell_type": "markdown",
   "metadata": {},
   "source": [
    "13. Provide an if statement (inside the provided for loop) that prints 'even' if the number is even, 'odd' if the number is odd, and 'found it!' if the number is 3."
   ]
  },
  {
   "cell_type": "code",
   "execution_count": 1,
   "metadata": {},
   "outputs": [
    {
     "name": "stdout",
     "output_type": "stream",
     "text": [
      "Odd\n",
      "Even\n",
      "Found it!\n",
      "Even\n",
      "Odd\n",
      "Even\n",
      "Odd\n",
      "Even\n",
      "Odd\n"
     ]
    }
   ],
   "source": [
    "my_list = [1,2,3,4,5,6,7,8,9]\n",
    "for i in my_list:\n",
    "    if i % 2 == 0:\n",
    "        print(\"Even\")\n",
    "    elif i == 3:\n",
    "        print(\"Found it!\")\n",
    "    else:\n",
    "        print(\"Odd\")"
   ]
  },
  {
   "cell_type": "markdown",
   "metadata": {},
   "source": [
    "14. What is the greater than equal to operator? Show a code example of how it is used. "
   ]
  },
  {
   "cell_type": "code",
   "execution_count": 6,
   "metadata": {},
   "outputs": [
    {
     "name": "stdout",
     "output_type": "stream",
     "text": [
      "Better luck next time buckaroo\n"
     ]
    }
   ],
   "source": [
    "# >= determines if a value is greater or equal to something else\n",
    "u = 501\n",
    "if u >= 501:\n",
    "    print(\"Better luck next time buckaroo\")"
   ]
  },
  {
   "cell_type": "markdown",
   "metadata": {},
   "source": [
    "15. What is the floored division operator? Show a code example of how it is used. "
   ]
  },
  {
   "cell_type": "code",
   "execution_count": 7,
   "metadata": {},
   "outputs": [
    {
     "name": "stdout",
     "output_type": "stream",
     "text": [
      "45\n"
     ]
    }
   ],
   "source": [
    "# It divides the expression and rounds down the answer to nearest whole number\n",
    "print(91 // 2)"
   ]
  },
  {
   "cell_type": "markdown",
   "metadata": {},
   "source": [
    "16. Why does the following give an error? Show how to fix it."
   ]
  },
  {
   "cell_type": "code",
   "execution_count": 8,
   "metadata": {},
   "outputs": [],
   "source": [
    "two_cars = ('Ferarri', 'Mustang')"
   ]
  },
  {
   "cell_type": "code",
   "execution_count": null,
   "metadata": {},
   "outputs": [],
   "source": [
    "# When naming objects, there can not be numbers in it."
   ]
  },
  {
   "cell_type": "markdown",
   "metadata": {},
   "source": [
    "17. Why does this if statement evaluate to true and do what's in the if body? \n",
    "You will see this shortcut a lot and it can be confusing."
   ]
  },
  {
   "cell_type": "code",
   "execution_count": 7,
   "metadata": {},
   "outputs": [
    {
     "name": "stdout",
     "output_type": "stream",
     "text": [
      "Hooray!\n"
     ]
    }
   ],
   "source": [
    "some_list = ['fizz','buzz',1,{'key':'value'}]\n",
    "\n",
    "if some_list:\n",
    "    print('Hooray!')"
   ]
  },
  {
   "cell_type": "code",
   "execution_count": null,
   "metadata": {},
   "outputs": [],
   "source": [
    "# It evalutes the expression true because there are elements in the list. The if statement checks if there are elements in some_list."
   ]
  },
  {
   "cell_type": "markdown",
   "metadata": {},
   "source": [
    "18. Write an expression that raises one number to the power of 8. "
   ]
  },
  {
   "cell_type": "code",
   "execution_count": 9,
   "metadata": {},
   "outputs": [
    {
     "data": {
      "text/plain": [
       "65536"
      ]
     },
     "execution_count": 9,
     "metadata": {},
     "output_type": "execute_result"
    }
   ],
   "source": [
    "pow(4, 8)"
   ]
  },
  {
   "cell_type": "markdown",
   "metadata": {},
   "source": [
    "19. How can you change `my_var` form an `int` to a `str`?"
   ]
  },
  {
   "cell_type": "code",
   "execution_count": 9,
   "metadata": {},
   "outputs": [
    {
     "data": {
      "text/plain": [
       "'65'"
      ]
     },
     "execution_count": 9,
     "metadata": {},
     "output_type": "execute_result"
    }
   ],
   "source": [
    "my_var = 65\n",
    "str(my_var)"
   ]
  },
  {
   "cell_type": "markdown",
   "metadata": {},
   "source": [
    "20. Slice `some_string` to only include the words `quarter to eight`. "
   ]
  },
  {
   "cell_type": "code",
   "execution_count": 6,
   "metadata": {},
   "outputs": [
    {
     "name": "stdout",
     "output_type": "stream",
     "text": [
      "quarter to eight\n"
     ]
    }
   ],
   "source": [
    "some_string = \"I have got a date at a quarter to eight; I'll see you at the gate, so don't be late\"\n",
    "some_string = some_string[23:39]\n",
    "print(some_string)"
   ]
  },
  {
   "cell_type": "markdown",
   "metadata": {},
   "source": [
    "21. Assign a new **variable** `sport` (that you define) to the 3rd element in the list."
   ]
  },
  {
   "cell_type": "code",
   "execution_count": 4,
   "metadata": {},
   "outputs": [
    {
     "name": "stdout",
     "output_type": "stream",
     "text": [
      "Blues\n"
     ]
    }
   ],
   "source": [
    "my_favorite_teams= ['Chiefs', 'Cardinals', 'Blues', 'Billikens','Battlehawks', 'No sports ball for me']\n",
    "sport = my_favorite_teams[2]\n",
    "print(sport)"
   ]
  },
  {
   "cell_type": "markdown",
   "metadata": {},
   "source": [
    "22. What is the use case for the `dir()` method? "
   ]
  },
  {
   "cell_type": "code",
   "execution_count": null,
   "metadata": {},
   "outputs": [],
   "source": [
    "# You use dir() when you want to see the attribute's values of an object."
   ]
  },
  {
   "cell_type": "markdown",
   "metadata": {},
   "source": [
    "23. (3 pts) Write a function that takes in any number and triples it. Give the function a default value if no number is passed in."
   ]
  },
  {
   "cell_type": "code",
   "execution_count": 19,
   "metadata": {},
   "outputs": [
    {
     "name": "stdin",
     "output_type": "stream",
     "text": [
      "Enter a number: 46\n"
     ]
    },
    {
     "name": "stdout",
     "output_type": "stream",
     "text": [
      "138\n"
     ]
    }
   ],
   "source": [
    "num = input(\"Enter a number:\")\n",
    "if num != \"\":\n",
    "    nums = int(num)\n",
    "    print(nums * 3)  \n",
    "else:\n",
    "    print(5)"
   ]
  },
  {
   "cell_type": "markdown",
   "metadata": {},
   "source": [
    "Bonus (2 pts): Iterate through integers_list and print values that are multiples of 9."
   ]
  },
  {
   "cell_type": "code",
   "execution_count": 9,
   "metadata": {},
   "outputs": [],
   "source": [
    "import random\n",
    "integers_list = [random.randint(0,1000) for i in range(50)] # a list comprehension\n",
    "\n",
    "# your code here"
   ]
  },
  {
   "cell_type": "code",
   "execution_count": null,
   "metadata": {},
   "outputs": [],
   "source": []
  },
  {
   "cell_type": "markdown",
   "metadata": {},
   "source": [
    "### o"
   ]
  }
 ],
 "metadata": {
  "kernelspec": {
   "display_name": "Python 3 (ipykernel)",
   "language": "python",
   "name": "python3"
  },
  "language_info": {
   "codemirror_mode": {
    "name": "ipython",
    "version": 3
   },
   "file_extension": ".py",
   "mimetype": "text/x-python",
   "name": "python",
   "nbconvert_exporter": "python",
   "pygments_lexer": "ipython3",
   "version": "3.9.13"
  }
 },
 "nbformat": 4,
 "nbformat_minor": 4
}
